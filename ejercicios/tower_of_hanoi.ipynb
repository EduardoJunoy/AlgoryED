{
 "cells": [
  {
   "cell_type": "code",
   "execution_count": 1,
   "metadata": {},
   "outputs": [
    {
     "name": "stdout",
     "output_type": "stream",
     "text": [
      "move disk from 2 to 2\n",
      "move disk from 2 to 1\n",
      "move disk from 2 to 1\n",
      "move disk from 2 to 2\n",
      "move disk from 1 to 2\n",
      "move disk from 1 to 2\n",
      "move disk from 2 to 2\n",
      "move disk from 2 to 1\n",
      "move disk from 2 to 1\n",
      "move disk from 2 to 2\n",
      "move disk from 1 to 2\n",
      "move disk from 2 to 1\n",
      "move disk from 2 to 2\n",
      "move disk from 2 to 1\n",
      "move disk from 2 to 1\n",
      "move disk from 2 to 2\n",
      "move disk from 1 to 2\n",
      "move disk from 1 to 2\n",
      "move disk from 2 to 2\n",
      "move disk from 1 to 2\n",
      "move disk from 2 to 1\n",
      "move disk from 2 to 2\n",
      "move disk from 1 to 2\n",
      "move disk from 1 to 2\n",
      "move disk from 2 to 2\n",
      "move disk from 2 to 1\n",
      "move disk from 2 to 1\n",
      "move disk from 2 to 2\n",
      "move disk from 1 to 2\n",
      "move disk from 1 to 2\n",
      "move disk from 2 to 2\n",
      "None\n"
     ]
    }
   ],
   "source": [
    "from tower_of_hanoi import *\n",
    "\n",
    "print(hanoi(5, 2, 2, 1))"
   ]
  }
 ],
 "metadata": {
  "kernelspec": {
   "display_name": "Python 3.9.13 ('base')",
   "language": "python",
   "name": "python3"
  },
  "language_info": {
   "codemirror_mode": {
    "name": "ipython",
    "version": 3
   },
   "file_extension": ".py",
   "mimetype": "text/x-python",
   "name": "python",
   "nbconvert_exporter": "python",
   "pygments_lexer": "ipython3",
   "version": "3.9.13"
  },
  "orig_nbformat": 4,
  "vscode": {
   "interpreter": {
    "hash": "99c3e7ce4f4063f3d4accb8928757e478d88fe993c1dc6eef6036d04710bfc4e"
   }
  }
 },
 "nbformat": 4,
 "nbformat_minor": 2
}
