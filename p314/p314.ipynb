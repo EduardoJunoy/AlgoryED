{
 "cells": [
  {
   "cell_type": "code",
   "execution_count": 15,
   "metadata": {},
   "outputs": [],
   "source": [
    "import sys\n",
    "import math\n",
    "import numpy as np\n",
    "import itertools\n",
    "\n",
    "from typing import List, Dict, Callable, Iterable, Tuple, Union\n",
    "\n",
    "def max_index(values: List) -> tuple:\n",
    "    max_value = max(values)\n",
    "    max_index = values.index(max_value)\n",
    "    return max_value, max_index\n",
    "    \n",
    "def max_common_subsequence(str_1: str, str_2: str) -> str:\n",
    "    lenght = np.zeros((len(str_1)+1, len(str_2)+1), dtype=int)\n",
    "    mmatrix = np.empty((len(str_1)+1, len(str_2)+1), dtype=str)\n",
    "\n",
    "    for i in range(1, len(str_1)+1):\n",
    "        for j in range(1, len(str_2)+1):\n",
    "            if str_1[i-1] == str_2[j-1]:\n",
    "                lenght[i, j] = 1 + lenght[i-1, j-1]\n",
    "                mmatrix[i, j] = 'D'\n",
    "            else:\n",
    "                lenght[i, j] = max(lenght[i-1, j], lenght[i, j-1])\n",
    "                ind = max_index((lenght[i-1, j], lenght[i, j-1]))\n",
    "                mmatrix[i, j] = 'U' if ind else 'L'\n",
    "    print(mmatrix)\n",
    "    print(lenght)\n",
    "\n",
    "    sp = \"\"\n",
    "    while mmatrix[i, j] != '':\n",
    "        if mmatrix[i, j] == 'D':\n",
    "            i, j = i-1, j-1\n",
    "            sp = str_1[i] + sp\n",
    "        elif mmatrix[i, j] == 'U':\n",
    "            j = j-1\n",
    "        elif mmatrix[i, j] == 'L':\n",
    "            i = i-1\n",
    "        print(i, j)\n",
    "    return sp\n",
    "\n",
    "def LongestCommonString(str_1: str, str_2: str) -> set:\n",
    "    #asignaciones\n",
    "    l1 = len(str_1)\n",
    "    l2 = len(str_2)\n",
    "    matrix = [[0]*(l2+1) for x in range(l1+1)]\n",
    "    longest = 0\n",
    "    lcs_set = set()\n",
    "\n",
    "    for i in range(l1):\n",
    "        for j in range(l2):\n",
    "            if str_1[i] == str_2[j]:\n",
    "                #incrementa el contador en la posición diagonalmente inferior\n",
    "                c = matrix[i][j] + 1\n",
    "                matrix[i+1][j+1] = c\n",
    "                if c > longest:\n",
    "                    #si el contador es mayor que longest (tamaño de la cadena más larga) actualizamos el valor de longest\n",
    "                    lcs_set = set()\n",
    "                    longest = c\n",
    "                    #añadimos la subcadena resultante en el conjunto\n",
    "                    lcs_set.add(str_1[i-c+1:i+1])\n",
    "                elif c == longest:\n",
    "                    #si el contador es igual que longest únicamente añadimos la subcadena\n",
    "                    lcs_set.add(str_1[i-c+1:i+1])\n",
    "                    \n",
    "    #print(matrix)\n",
    "    return lcs_set\n",
    "    #x = \"bahamas\"\n",
    "    #y = \"bananas\"\n",
    "    #LongestCommonString(x, y)\n",
    "\n",
    "def edit_distance(str_1: str, str_2: str) -> int:\n",
    "    distance = np.zeros((len(str_1)+1, len(str_2)+1), dtype=int)\n",
    "    distance[0, 1:] = range(1, len(str_2)+1)\n",
    "    distance[1:, 0] = range(1, len(str_1)+1)\n",
    "\n",
    "    for i in range(1, len(str_1)+1):\n",
    "        for j in range(1, len(str_2)+1):\n",
    "            distance[i, j] = distance[i-1, j-1] if str_1[i-1] == str_2[j-1] else 1 + min(distance[i-1, j-1], distance[i-1, j], distance[i, j-1])\n",
    "\n",
    "    print(distance)\n",
    "    return distance[-1, -1]\n"
   ]
  },
  {
   "cell_type": "code",
   "execution_count": 16,
   "metadata": {},
   "outputs": [
    {
     "name": "stdout",
     "output_type": "stream",
     "text": [
      "[['' '' '' '' '' '' '' '']\n",
      " ['' 'U' 'U' 'U' 'U' 'U' 'U' 'U']\n",
      " ['' 'U' 'U' 'U' 'U' 'U' 'U' 'D']\n",
      " ['' 'U' 'U' 'D' 'U' 'U' 'U' 'U']\n",
      " ['' 'U' 'U' 'D' 'U' 'U' 'U' 'U']\n",
      " ['' 'U' 'D' 'U' 'U' 'D' 'U' 'U']\n",
      " ['' 'U' 'U' 'U' 'U' 'U' 'D' 'U']\n",
      " ['' 'U' 'U' 'U' 'U' 'U' 'U' 'U']]\n",
      "[[0 0 0 0 0 0 0 0]\n",
      " [0 0 0 0 0 0 0 0]\n",
      " [0 0 0 0 0 0 0 1]\n",
      " [0 0 0 1 1 1 1 1]\n",
      " [0 0 0 1 1 1 1 1]\n",
      " [0 0 1 1 1 2 2 2]\n",
      " [0 0 1 1 1 2 3 3]\n",
      " [0 0 1 1 1 2 3 3]]\n",
      "7 6\n",
      "7 5\n",
      "7 4\n",
      "7 3\n",
      "7 2\n",
      "7 1\n",
      "7 0\n",
      "[[0 1 2 3 4 5 6 7]\n",
      " [1 1 2 3 4 5 6 7]\n",
      " [2 2 2 3 4 5 6 6]\n",
      " [3 3 3 2 3 4 5 6]\n",
      " [4 4 4 3 3 4 5 6]\n",
      " [5 5 4 4 4 3 4 5]\n",
      " [6 6 5 5 5 4 3 4]\n",
      " [7 7 6 6 6 5 4 4]]\n"
     ]
    },
    {
     "data": {
      "text/plain": [
       "4"
      ]
     },
     "execution_count": 16,
     "metadata": {},
     "output_type": "execute_result"
    }
   ],
   "source": [
    "x = 'forraje'\n",
    "y = 'zarzajo'\n",
    "max_common_subsequence(x,y)\n",
    "LongestCommonString(x,y)\n",
    "edit_distance(x,y)\n"
   ]
  }
 ],
 "metadata": {
  "kernelspec": {
   "display_name": "Python 3.9.13 ('base')",
   "language": "python",
   "name": "python3"
  },
  "language_info": {
   "codemirror_mode": {
    "name": "ipython",
    "version": 3
   },
   "file_extension": ".py",
   "mimetype": "text/x-python",
   "name": "python",
   "nbconvert_exporter": "python",
   "pygments_lexer": "ipython3",
   "version": "3.9.13"
  },
  "orig_nbformat": 4,
  "vscode": {
   "interpreter": {
    "hash": "99c3e7ce4f4063f3d4accb8928757e478d88fe993c1dc6eef6036d04710bfc4e"
   }
  }
 },
 "nbformat": 4,
 "nbformat_minor": 2
}
